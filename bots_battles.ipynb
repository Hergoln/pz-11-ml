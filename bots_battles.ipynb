{
 "cells": [
  {
   "cell_type": "markdown",
   "metadata": {},
   "source": [
    "# BotsBattles"
   ]
  },
  {
   "cell_type": "markdown",
   "metadata": {},
   "source": [
    "### Simple showcase"
   ]
  },
  {
   "cell_type": "markdown",
   "metadata": {},
   "source": [
    "#### Basic imports"
   ]
  },
  {
   "cell_type": "code",
   "execution_count": 1,
   "metadata": {},
   "outputs": [],
   "source": [
    "from src import make_env, get_session_id, spawn_bots, RandomAgent, CloseFoodAgent, cleanup\n",
    "import numpy as np"
   ]
  },
  {
   "cell_type": "markdown",
   "metadata": {},
   "source": [
    "#### Create an environment for Agarn't game "
   ]
  },
  {
   "cell_type": "code",
   "execution_count": 2,
   "metadata": {},
   "outputs": [
    {
     "name": "stdout",
     "output_type": "stream",
     "text": [
      "Finished an attempt to connect with host\n",
      "Established connection at: localhost\n",
      "\n"
     ]
    }
   ],
   "source": [
    "make_env(\"ws://localhost:2137\", \"agarnt\", \"agarnt\", \"test_bot\")"
   ]
  },
  {
   "cell_type": "markdown",
   "metadata": {},
   "source": [
    "#### Check captured session identifier, should be not equal to None"
   ]
  },
  {
   "cell_type": "code",
   "execution_count": 3,
   "metadata": {},
   "outputs": [
    {
     "data": {
      "text/plain": [
       "'session_988bb2cba62b0718'"
      ]
     },
     "execution_count": 3,
     "metadata": {},
     "output_type": "execute_result"
    }
   ],
   "source": [
    "get_session_id()"
   ]
  },
  {
   "cell_type": "markdown",
   "metadata": {},
   "source": [
    "#### Spawn RandomAgarnt bot on game server"
   ]
  },
  {
   "cell_type": "code",
   "execution_count": 4,
   "metadata": {},
   "outputs": [],
   "source": [
    "gen = np.random.default_rng(2137)\n",
    "\n",
    "# manager = spawn_bots(\"ws://localhost:2137\", get_session_id(), RandomAgent, 1, generator=gen)\n",
    "manager = spawn_bots(\"ws://localhost:2137\", get_session_id(), RandomAgent, 2, generator=gen)"
   ]
  },
  {
   "cell_type": "markdown",
   "metadata": {},
   "source": [
    "#### Terminate bot after 10 seconds"
   ]
  },
  {
   "cell_type": "code",
   "execution_count": 5,
   "metadata": {},
   "outputs": [
    {
     "name": "stdout",
     "output_type": "stream",
     "text": [
      "Random action is chosen instead\n"
     ]
    }
   ],
   "source": [
    "import signal\n",
    "from time import sleep\n",
    "global_done = False\n",
    "def terminate_bots():\n",
    "    global global_done\n",
    "    global_done = True\n",
    "    manager.terminate(2)\n",
    "\n",
    "signal.signal(signal.SIGINT, terminate_bots)\n",
    "\n",
    "try:\n",
    "    sleep(5)\n",
    "    bot = CloseFoodAgent(gen)\n",
    "    bot.handle_new_states(None)\n",
    "    while not bot.is_done and not global_done:\n",
    "        sleep(0.1)\n",
    "        act = bot.choose_action()\n",
    "except:\n",
    "    pass"
   ]
  },
  {
   "cell_type": "code",
   "execution_count": 6,
   "metadata": {},
   "outputs": [],
   "source": [
    "terminate_bots()\n"
   ]
  },
  {
   "cell_type": "code",
   "execution_count": 5,
   "metadata": {},
   "outputs": [
    {
     "name": "stdout",
     "output_type": "stream",
     "text": [
      "Obtain result of future at:  0x1b19fad71f0\n",
      "Obtain result of future at:  0x1b19fad7e50\n",
      "Manager is about to shutdown...\n",
      "In cleanup\n",
      "In close\n",
      "Terminating: <src.base._gameproxy.__ConnectionProxy object at 0x000001B188557700>\n",
      "Terminating: <src.base._gameproxy.__SendProxy object at 0x000001B1886B4490>\n",
      "Terminating: <src.base._gameproxy.__ReceiveProxy object at 0x000001B19EA92520>\n",
      "Terminating: <src.base._gameproxy.__SendProxy object at 0x000001B19FA8DD60>\n",
      "Terminating: <src.base._gameproxy.__ReceiveProxy object at 0x000001B19FA8DEE0>\n",
      "cleaning connection...\n",
      "Collecting futures...\n",
      "Collecting: 0x1b19facfd30\n",
      "Dropped\n",
      "Send code\n",
      "Finished an attempt to disconnect from host\n",
      "\n",
      "Succesfully disconnected from host: localhost\n",
      "Cleaning thread...\n",
      "The state of a coroutine at 0x1b19fac0110: PENDING\n",
      "stopped executor\n",
      "Closing a loop\n"
     ]
    }
   ],
   "source": [
    "manager.terminate(2)\n",
    "cleanup()"
   ]
  },
  {
   "cell_type": "code",
   "execution_count": null,
   "metadata": {},
   "outputs": [],
   "source": []
  }
 ],
 "metadata": {
  "interpreter": {
   "hash": "134380bcb76e9f38813ee820b4091b0a25d392ed16476afb1daeb15f0b11eb2d"
  },
  "kernelspec": {
   "display_name": "Python 3.9.7 64-bit ('ml_env': venv)",
   "language": "python",
   "name": "python3"
  },
  "language_info": {
   "codemirror_mode": {
    "name": "ipython",
    "version": 3
   },
   "file_extension": ".py",
   "mimetype": "text/x-python",
   "name": "python",
   "nbconvert_exporter": "python",
   "pygments_lexer": "ipython3",
   "version": "3.9.7"
  },
  "orig_nbformat": 4
 },
 "nbformat": 4,
 "nbformat_minor": 2
}
